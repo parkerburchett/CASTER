{
 "cells": [
  {
   "cell_type": "markdown",
   "metadata": {},
   "source": [
    "# source: https://www.youtube.com/watch?v=BzcBsTou0C0 \r\n",
    "\r\n",
    "Lecture 1\r\n"
   ]
  },
  {
   "cell_type": "code",
   "execution_count": 1,
   "metadata": {},
   "outputs": [],
   "source": [
    "# pytorch is numpy on a gpu with some nice helper funtions\r\n",
    "import torch"
   ]
  },
  {
   "cell_type": "code",
   "execution_count": 2,
   "metadata": {},
   "outputs": [
    {
     "data": {
      "text/plain": "tensor([10.,  3.])"
     },
     "execution_count": 2,
     "metadata": {},
     "output_type": "execute_result"
    }
   ],
   "source": [
    "x = torch.Tensor([5,3])\r\n",
    "y = torch.Tensor([2,1])\r\n",
    "x*y"
   ]
  },
  {
   "cell_type": "code",
   "execution_count": 3,
   "metadata": {},
   "outputs": [
    {
     "data": {
      "text/plain": "tensor([[0., 0., 0.],\n        [0., 0., 0.]])"
     },
     "execution_count": 3,
     "metadata": {},
     "output_type": "execute_result"
    }
   ],
   "source": [
    "x = torch.zeros([2,3,]) # rows, columns\r\n",
    "x"
   ]
  },
  {
   "cell_type": "code",
   "execution_count": 4,
   "metadata": {},
   "outputs": [],
   "source": [
    "y = torch.rand([5,5])"
   ]
  },
  {
   "cell_type": "code",
   "execution_count": 5,
   "metadata": {},
   "outputs": [
    {
     "data": {
      "text/plain": "tensor([[0.7188, 0.0875, 0.5934, 0.0457, 0.1012, 0.1266, 0.1482, 0.5630, 0.4907,\n         0.9637, 0.9691, 0.4173, 0.9587, 0.6751, 0.2707, 0.8751, 0.4063, 0.3243,\n         0.1056, 0.9458, 0.0360, 0.7773, 0.7259, 0.7688, 0.3765]])"
     },
     "execution_count": 5,
     "metadata": {},
     "output_type": "execute_result"
    }
   ],
   "source": [
    "# this is how you flatten things\r\n",
    "y.view([1,25]) # does not transform in place you would need to reassign\r\n"
   ]
  },
  {
   "cell_type": "markdown",
   "metadata": {},
   "source": [
    "# Lecture 2 https://www.youtube.com/watch?v=i2yPxY2rOzs\r\n",
    "\r\n",
    "The data"
   ]
  },
  {
   "cell_type": "code",
   "execution_count": 6,
   "metadata": {},
   "outputs": [],
   "source": [
    "import torchvision # just has a bunch of vision dataset\r\n",
    "import torch\r\n",
    "from torchvision import transforms, datasets"
   ]
  },
  {
   "cell_type": "code",
   "execution_count": 7,
   "metadata": {},
   "outputs": [],
   "source": [
    "train = datasets.MNIST(\"\", train=True, download=True, transform = transforms.Compose([transforms.ToTensor()]))\r\n",
    "test = datasets.MNIST(\"\", train=False, download=True, transform = transforms.Compose([transforms.ToTensor()]))\r\n",
    "                  \r\n",
    "\r\n",
    "# the transfrom parameter is a list of functions that will be the transformations of data\r\n"
   ]
  },
  {
   "cell_type": "code",
   "execution_count": 8,
   "metadata": {},
   "outputs": [],
   "source": [
    "trainset = torch.utils.data.DataLoader(train, batch_size=10, shuffle=True) # batch says feed 10 items into the model at a time typically between 8 and 64\r\n",
    "testset = torch.utils.data.DataLoader(test, batch_size=10, shuffle=True) # just trial and error. You always want to shuffle. "
   ]
  },
  {
   "cell_type": "code",
   "execution_count": 9,
   "metadata": {},
   "outputs": [
    {
     "name": "stdout",
     "output_type": "stream",
     "text": [
      "[tensor([[[[0., 0., 0.,  ..., 0., 0., 0.],\n",
      "          [0., 0., 0.,  ..., 0., 0., 0.],\n",
      "          [0., 0., 0.,  ..., 0., 0., 0.],\n",
      "          ...,\n",
      "          [0., 0., 0.,  ..., 0., 0., 0.],\n",
      "          [0., 0., 0.,  ..., 0., 0., 0.],\n",
      "          [0., 0., 0.,  ..., 0., 0., 0.]]],\n",
      "\n",
      "\n",
      "        [[[0., 0., 0.,  ..., 0., 0., 0.],\n",
      "          [0., 0., 0.,  ..., 0., 0., 0.],\n",
      "          [0., 0., 0.,  ..., 0., 0., 0.],\n",
      "          ...,\n",
      "          [0., 0., 0.,  ..., 0., 0., 0.],\n",
      "          [0., 0., 0.,  ..., 0., 0., 0.],\n",
      "          [0., 0., 0.,  ..., 0., 0., 0.]]],\n",
      "\n",
      "\n",
      "        [[[0., 0., 0.,  ..., 0., 0., 0.],\n",
      "          [0., 0., 0.,  ..., 0., 0., 0.],\n",
      "          [0., 0., 0.,  ..., 0., 0., 0.],\n",
      "          ...,\n",
      "          [0., 0., 0.,  ..., 0., 0., 0.],\n",
      "          [0., 0., 0.,  ..., 0., 0., 0.],\n",
      "          [0., 0., 0.,  ..., 0., 0., 0.]]],\n",
      "\n",
      "\n",
      "        ...,\n",
      "\n",
      "\n",
      "        [[[0., 0., 0.,  ..., 0., 0., 0.],\n",
      "          [0., 0., 0.,  ..., 0., 0., 0.],\n",
      "          [0., 0., 0.,  ..., 0., 0., 0.],\n",
      "          ...,\n",
      "          [0., 0., 0.,  ..., 0., 0., 0.],\n",
      "          [0., 0., 0.,  ..., 0., 0., 0.],\n",
      "          [0., 0., 0.,  ..., 0., 0., 0.]]],\n",
      "\n",
      "\n",
      "        [[[0., 0., 0.,  ..., 0., 0., 0.],\n",
      "          [0., 0., 0.,  ..., 0., 0., 0.],\n",
      "          [0., 0., 0.,  ..., 0., 0., 0.],\n",
      "          ...,\n",
      "          [0., 0., 0.,  ..., 0., 0., 0.],\n",
      "          [0., 0., 0.,  ..., 0., 0., 0.],\n",
      "          [0., 0., 0.,  ..., 0., 0., 0.]]],\n",
      "\n",
      "\n",
      "        [[[0., 0., 0.,  ..., 0., 0., 0.],\n",
      "          [0., 0., 0.,  ..., 0., 0., 0.],\n",
      "          [0., 0., 0.,  ..., 0., 0., 0.],\n",
      "          ...,\n",
      "          [0., 0., 0.,  ..., 0., 0., 0.],\n",
      "          [0., 0., 0.,  ..., 0., 0., 0.],\n",
      "          [0., 0., 0.,  ..., 0., 0., 0.]]]]), tensor([1, 1, 7, 7, 4, 2, 8, 1, 6, 6])]\n"
     ]
    }
   ],
   "source": [
    "for data in trainset:\r\n",
    "    print(data)\r\n",
    "    break"
   ]
  },
  {
   "cell_type": "code",
   "execution_count": 10,
   "metadata": {},
   "outputs": [
    {
     "name": "stdout",
     "output_type": "stream",
     "text": [
      "tensor(1)\n"
     ]
    }
   ],
   "source": [
    "x,y = data[0][0], data[1][0]\r\n",
    "print(y)"
   ]
  },
  {
   "cell_type": "code",
   "execution_count": 11,
   "metadata": {},
   "outputs": [
    {
     "data": {
      "text/plain": "<matplotlib.image.AxesImage at 0x15b02016d30>"
     },
     "execution_count": 11,
     "metadata": {},
     "output_type": "execute_result"
    },
    {
     "data": {
      "image/png": "[encoded data removed]",
      "text/plain": "<Figure size 432x288 with 1 Axes>"
     },
     "metadata": {
      "needs_background": "light"
     },
     "output_type": "display_data"
    }
   ],
   "source": [
    "import matplotlib.pyplot as plt\r\n",
    "\r\n",
    "plt.imshow(x.view([28,28]))"
   ]
  },
  {
   "cell_type": "markdown",
   "metadata": {},
   "source": [
    "###  https://www.youtube.com/watch?v=ixathu7U-LQ"
   ]
  },
  {
   "cell_type": "code",
   "execution_count": 12,
   "metadata": {},
   "outputs": [
    {
     "data": {
      "text/plain": "Net(\n  (fc1): Linear(in_features=784, out_features=64, bias=True)\n  (fc2): Linear(in_features=64, out_features=64, bias=True)\n  (fc3): Linear(in_features=64, out_features=64, bias=True)\n  (fc4): Linear(in_features=64, out_features=10, bias=True)\n)"
     },
     "execution_count": 12,
     "metadata": {},
     "output_type": "execute_result"
    }
   ],
   "source": [
    "# building the model\r\n",
    "\r\n",
    "import torch.nn as nn\r\n",
    "import torch.nn.functional as F\r\n",
    "# these two libraries are mostly interchangeable\r\n",
    "\r\n",
    "class Net(nn.Module):\r\n",
    "    def __init__(self):\r\n",
    "        super().__init__()\r\n",
    "        # self. fully connected layer 1 = nn.Linear(input flat tensor (1d array size is 728))\r\n",
    "        self.fc1 = nn.Linear(28*28, 64) # format is input size, output size. You can choose output size\r\n",
    "        self.fc2 = nn.Linear(64, 64)\r\n",
    "        self.fc3 = nn.Linear(64, 64)\r\n",
    "        self.fc4 = nn.Linear(64, 10) # there are 10 classes so this is the end size. \r\n",
    "\r\n",
    "    # this is a normal basic feed forward network\r\n",
    "\r\n",
    "    def forward(self, x):\r\n",
    "        \"\"\"\r\n",
    "            Define how data,x, passes through the network\r\n",
    "        \"\"\"\r\n",
    "        # x is the data that you are passign though the network\r\n",
    "\r\n",
    "        x = F.relu(self.fc1(x)) # pass the data x through the first Fully connected node. Then pass easch element through the ReLu activation function\r\n",
    "        x = F.relu(self.fc2(x))\r\n",
    "        x = F.relu(self.fc3(x))\r\n",
    "        x = self.fc4(x) # we want a function that constrains such as argmax\r\n",
    "        return F.log_softmax(x, dim=1) # converts x into a prob distribution of catgories \r\n",
    "net = Net()\r\n",
    "net"
   ]
  },
  {
   "cell_type": "code",
   "execution_count": 13,
   "metadata": {},
   "outputs": [
    {
     "data": {
      "text/plain": "torch.Size([1, 784])"
     },
     "execution_count": 13,
     "metadata": {},
     "output_type": "execute_result"
    }
   ],
   "source": [
    "X = torch.rand([28,28])\r\n",
    "#X = X.view([28*28]) # these things are very finicky about how they want you to fomrat things\r\n",
    "X = X.view(-1,28*28)\r\n",
    "X.shape"
   ]
  },
  {
   "cell_type": "code",
   "execution_count": 14,
   "metadata": {},
   "outputs": [
    {
     "data": {
      "text/plain": "tensor([[-2.4246, -2.4057, -2.3352, -2.3110, -2.3440, -2.3057, -2.1970, -2.2579,\n         -2.1524, -2.3249]], grad_fn=<LogSoftmaxBackward>)"
     },
     "execution_count": 14,
     "metadata": {},
     "output_type": "execute_result"
    }
   ],
   "source": [
    "output = net(X) # this throws an error because X is not flattened\r\n",
    "\r\n",
    "output # you have successfully passed an image through a NN you built"
   ]
  },
  {
   "cell_type": "markdown",
   "metadata": {},
   "source": [
    "## Part 4\r\n",
    "\r\n",
    "https://www.youtube.com/watch?v=9j-_dOze4IM\r\n"
   ]
  },
  {
   "cell_type": "code",
   "execution_count": 17,
   "metadata": {},
   "outputs": [
    {
     "name": "stdout",
     "output_type": "stream",
     "text": [
      "tensor(0.0356, grad_fn=<NllLossBackward>)\n",
      "tensor(0.0147, grad_fn=<NllLossBackward>)\n",
      "tensor(0.2167, grad_fn=<NllLossBackward>)\n"
     ]
    }
   ],
   "source": [
    "# loss is a measure of how wrong the model is\r\n",
    "# the optimizer is the thing that changes the weights\r\n",
    "\r\n",
    "import torch.optim as optim\r\n",
    "                                        # you also choose the learning rate\r\n",
    "\r\n",
    "optimizer  = optim.Adam(net.parameters(),lr=.001)# first param is everything that is adjustable in the model. You can change it so that they can only change a subset of the layers. \r\n",
    "# this is useful for when you already have a pretrained model that you want to adapt to your own purposes. \r\n",
    "\r\n",
    "# an epoch is a full pass through the data\r\n",
    "\r\n",
    "EPOCHS =3\r\n",
    "\r\n",
    "for epoch in range(3): # 3 full passes over the data\r\n",
    "    for data in trainset:  # `data` is a batch of data\r\n",
    "        X, y = data  # X is the batch of features, y is the batch of targets.\r\n",
    "        net.zero_grad()  # sets gradients to 0 before loss calc. You will do this likely every step.\r\n",
    "        output = net(X.view(-1,784))  # pass in the reshaped batch (recall they are 28x28 atm)\r\n",
    "        loss = F.nll_loss(output, y)  # calc and grab the loss value\r\n",
    "        loss.backward()  # apply this loss backwards thru the network's parameters\r\n",
    "        optimizer.step()  # attempt to optimize weights to account for loss/gradients\r\n",
    "    print(loss)  # print loss. We hope loss (a measure of wrong-ness) declines! "
   ]
  },
  {
   "cell_type": "code",
   "execution_count": 20,
   "metadata": {},
   "outputs": [
    {
     "data": {
      "text/plain": "0.96"
     },
     "execution_count": 20,
     "metadata": {},
     "output_type": "execute_result"
    }
   ],
   "source": [
    "total =0 \r\n",
    "correct = 0\r\n",
    "\r\n",
    "with torch.no_grad():\r\n",
    "    for data in testset:\r\n",
    "        X,y = data\r\n",
    "        output = net(X.view(-1,784))\r\n",
    "        for idx, i in enumerate(output):\r\n",
    "            if torch.argmax(i) == y[idx]:\r\n",
    "                correct +=1\r\n",
    "            total +=1\r\n",
    "\r\n",
    "round(correct / total ,2)"
   ]
  }
 ],
 "metadata": {
  "kernelspec": {
   "display_name": "Python 3.9.5 64-bit ('venv': venv)",
   "name": "pythonjvsc74a57bd04e7892b4f467507d725e34517222c9d31081f1c74175e58fa588dd5bafca0b86"
  },
  "language_info": {
   "codemirror_mode": {
    "name": "ipython",
    "version": 3
   },
   "file_extension": ".py",
   "mimetype": "text/x-python",
   "name": "python",
   "nbconvert_exporter": "python",
   "pygments_lexer": "ipython3",
   "version": "3.9.5"
  },
  "metadata": {
   "interpreter": {
    "hash": "4e7892b4f467507d725e34517222c9d31081f1c74175e58fa588dd5bafca0b86"
   }
  },
  "orig_nbformat": 2
 },
 "nbformat": 4,
 "nbformat_minor": 2
}