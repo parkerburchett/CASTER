{
 "cells": [
  {
   "cell_type": "code",
   "execution_count": 4,
   "metadata": {},
   "outputs": [
    {
     "name": "stdout",
     "output_type": "stream",
     "text": [
      "c:\\Users\\parke\\Documents\\GitHub\\CASTER\\DDE\n",
      "you are already in DDE\n"
     ]
    }
   ],
   "source": [
    "import os\r\n",
    "print(os.getcwd())\r\n",
    "try:\r\n",
    "    os.chdir('DDE')\r\n",
    "except:\r\n",
    "    print('you are already in DDE')\r\n",
    "\r\n",
    "\r\n",
    "import torch\r\n",
    "from torch.autograd import Variable\r\n",
    "import torch.nn.functional as F\r\n",
    "from torch.utils import data\r\n",
    "from torch import nn \r\n",
    "import copy\r\n",
    "\r\n",
    "from tqdm import tqdm\r\n",
    "import matplotlib.pyplot as plt\r\n",
    "import numpy as np\r\n",
    "import pandas as pd\r\n",
    "from time import time\r\n",
    "from sklearn.metrics import roc_auc_score, precision_recall_curve\r\n",
    "from sklearn.model_selection import KFold\r\n",
    "torch.manual_seed(2)    # reproducible torch:2 np:3\r\n",
    "np.random.seed(3)\r\n",
    "\r\n",
    "from dde_config import dde_NN_config\r\n",
    "from dde_torch import dde_NN_Large_Predictor\r\n",
    "from stream_dde import supData, unsupData, smiles2index, smiles2vector"
   ]
  },
  {
   "cell_type": "code",
   "execution_count": 15,
   "metadata": {},
   "outputs": [
    {
     "data": {
      "text/plain": "(1722,)"
     },
     "execution_count": 15,
     "metadata": {},
     "output_type": "execute_result"
    }
   ],
   "source": [
    "sample_smiles = ['Clc1ccccc1-c1nc(-c2ccccc2)n[nH]1','COc1ccccc1C(c1nnnn1C(C)(C)C)N1CCN(Cc2ccncc2)CC1']\r\n",
    "\r\n",
    "vector = smiles2vector(sample_smiles[0],sample_smiles[1]) # pass this function \r\n",
    "vector.shape\r\n"
   ]
  },
  {
   "cell_type": "code",
   "execution_count": 14,
   "metadata": {},
   "outputs": [
    {
     "data": {
      "text/plain": "array([1., 1., 1., 1., 1., 1., 1., 1., 1., 1., 1., 1., 1., 1., 1., 1., 1.,\n       1., 1., 1.])"
     },
     "execution_count": 14,
     "metadata": {},
     "output_type": "execute_result"
    }
   ],
   "source": [
    "vals = vector[vector >0]\r\n",
    "vals"
   ]
  },
  {
   "cell_type": "code",
   "execution_count": 21,
   "metadata": {},
   "outputs": [
    {
     "name": "stdout",
     "output_type": "stream",
     "text": [
      "[623, 282, 28, 196, 180, 317, 25, 154, 29]\n",
      "[101, 282, 69, 196, 921, 324, 973, 447, 205, 89, 105, 25, 651, 127]\n"
     ]
    },
    {
     "ename": "AttributeError",
     "evalue": "'list' object has no attribute 'shape'",
     "output_type": "error",
     "traceback": [
      "\u001b[1;31m---------------------------------------------------------------------------\u001b[0m",
      "\u001b[1;31mAttributeError\u001b[0m                            Traceback (most recent call last)",
      "\u001b[1;32m<ipython-input-21-c0932d999dbc>\u001b[0m in \u001b[0;36m<module>\u001b[1;34m\u001b[0m\n\u001b[0;32m      2\u001b[0m \u001b[0mprint\u001b[0m\u001b[1;33m(\u001b[0m\u001b[0mi1\u001b[0m\u001b[1;33m)\u001b[0m \u001b[1;31m# I think these are the indexes of the vector to switch to on\u001b[0m\u001b[1;33m\u001b[0m\u001b[1;33m\u001b[0m\u001b[0m\n\u001b[0;32m      3\u001b[0m \u001b[0mprint\u001b[0m\u001b[1;33m(\u001b[0m\u001b[0mi2\u001b[0m\u001b[1;33m)\u001b[0m\u001b[1;33m\u001b[0m\u001b[1;33m\u001b[0m\u001b[0m\n\u001b[1;32m----> 4\u001b[1;33m \u001b[0mi1\u001b[0m\u001b[1;33m.\u001b[0m\u001b[0mshape\u001b[0m\u001b[1;33m\u001b[0m\u001b[1;33m\u001b[0m\u001b[0m\n\u001b[0m",
      "\u001b[1;31mAttributeError\u001b[0m: 'list' object has no attribute 'shape'"
     ]
    }
   ],
   "source": [
    "i1, i2 = smiles2index(sample_smiles[0],sample_smiles[1])\r\n",
    "print(i1) # I think these are the indexes of the vector to switch to on\r\n",
    "print(i2)\r\n"
   ]
  },
  {
   "cell_type": "code",
   "execution_count": 26,
   "metadata": {},
   "outputs": [],
   "source": [
    "# These are in stream_dd.property\r\n",
    "import numpy as np\r\n",
    "import pandas as pd\r\n",
    "import torch\r\n",
    "from torch.utils import data\r\n",
    "\r\n",
    "from subword_nmt.apply_bpe import BPE\r\n",
    "import codecs # in the standard python library\r\n",
    "dataFolder = './data'\r\n",
    "\r\n",
    "vocab_path = dataFolder + '/codes.txt' # this is a predefined set of common pseduo functional groups defined as common patterns\r\n",
    "bpe_codes_fin = codecs.open(vocab_path)\r\n",
    "bpe = BPE(bpe_codes_fin, merges=-1, separator='')\r\n",
    "\r\n",
    "vocab_map = pd.read_csv(dataFolder + '/subword_units_map.csv')\r\n",
    "idx2word = vocab_map['index'].values\r\n",
    "words2idx = dict(zip(idx2word, range(0, len(idx2word)))) # I think this creates a dictionary \r\n",
    "max_set = 30"
   ]
  },
  {
   "cell_type": "code",
   "execution_count": 29,
   "metadata": {},
   "outputs": [
    {
     "data": {
      "text/plain": "1"
     },
     "execution_count": 29,
     "metadata": {},
     "output_type": "execute_result"
    }
   ],
   "source": [
    "words2idx['#'] # dictionary of pseudo funcitonal groups\r\n"
   ]
  },
  {
   "cell_type": "code",
   "execution_count": 34,
   "metadata": {},
   "outputs": [
    {
     "name": "stdout",
     "output_type": "stream",
     "text": [
      "Clc1ccccc1-c1nc(-c2ccccc2)n[nH]1\n"
     ]
    },
    {
     "data": {
      "text/plain": "['Cl', 'c1ccccc1', '-', 'c1n', 'c(-', 'c2ccccc2)', 'n', '[nH]', '1']"
     },
     "execution_count": 34,
     "metadata": {},
     "output_type": "execute_result"
    }
   ],
   "source": [
    "t1 = bpe.process_line(sample_smiles[0]).split() # this line takes a smile string and breaks into functional groups\r\n",
    "print(sample_smiles[0])\r\n",
    "t1"
   ]
  }
 ],
 "metadata": {
  "kernelspec": {
   "display_name": "Python 3.9.5  ('venv': venv)",
   "name": "pythonjvsc74a57bd04e7892b4f467507d725e34517222c9d31081f1c74175e58fa588dd5bafca0b86"
  },
  "language_info": {
   "codemirror_mode": {
    "name": "ipython",
    "version": 3
   },
   "file_extension": ".py",
   "mimetype": "text/x-python",
   "name": "python",
   "nbconvert_exporter": "python",
   "pygments_lexer": "ipython3",
   "version": "3.9.5"
  },
  "metadata": {
   "interpreter": {
    "hash": "4e7892b4f467507d725e34517222c9d31081f1c74175e58fa588dd5bafca0b86"
   }
  },
  "orig_nbformat": 2
 },
 "nbformat": 4,
 "nbformat_minor": 2
}