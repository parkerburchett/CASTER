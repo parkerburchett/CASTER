{
 "cells": [
  {
   "cell_type": "code",
   "execution_count": 2,
   "metadata": {},
   "outputs": [
    {
     "name": "stdout",
     "output_type": "stream",
     "text": [
      "c:\\Users\\parke\\Documents\\GitHub\\CASTER\\DDE\n",
      "you are already in DDE\n"
     ]
    }
   ],
   "source": [
    "import os\r\n",
    "print(os.getcwd())\r\n",
    "try:\r\n",
    "    os.chdir('DDE')\r\n",
    "except:\r\n",
    "    print('you are already in DDE')\r\n",
    "\r\n",
    "\r\n",
    "import torch\r\n",
    "from torch.autograd import Variable\r\n",
    "import torch.nn.functional as F\r\n",
    "from torch.utils import data\r\n",
    "from torch import nn \r\n",
    "import copy\r\n",
    "\r\n",
    "from tqdm import tqdm\r\n",
    "import matplotlib.pyplot as plt\r\n",
    "import numpy as np\r\n",
    "import pandas as pd\r\n",
    "from time import time\r\n",
    "from sklearn.metrics import roc_auc_score, precision_recall_curve\r\n",
    "from sklearn.model_selection import KFold\r\n",
    "torch.manual_seed(2)    # reproducible torch:2 np:3\r\n",
    "np.random.seed(3)\r\n",
    "\r\n",
    "from dde_config import dde_NN_config\r\n",
    "from dde_torch import dde_NN_Large_Predictor\r\n",
    "from stream_dde import supData, unsupData, smiles2index, smiles2vector"
   ]
  },
  {
   "cell_type": "code",
   "execution_count": 3,
   "metadata": {},
   "outputs": [
    {
     "data": {
      "text/plain": "(1722,)"
     },
     "execution_count": 3,
     "metadata": {},
     "output_type": "execute_result"
    }
   ],
   "source": [
    "sample_smiles = ['Clc1ccccc1-c1nc(-c2ccccc2)n[nH]1','COc1ccccc1C(c1nnnn1C(C)(C)C)N1CCN(Cc2ccncc2)CC1']\r\n",
    "\r\n",
    "vector = smiles2vector(sample_smiles[0],sample_smiles[1]) # pass this function \r\n",
    "vector.shape\r\n"
   ]
  },
  {
   "cell_type": "code",
   "execution_count": 4,
   "metadata": {},
   "outputs": [
    {
     "data": {
      "text/plain": "array([1., 1., 1., 1., 1., 1., 1., 1., 1., 1., 1., 1., 1., 1., 1., 1., 1.,\n       1., 1., 1.])"
     },
     "execution_count": 4,
     "metadata": {},
     "output_type": "execute_result"
    }
   ],
   "source": [
    "vals = vector[vector >0]\r\n",
    "vals"
   ]
  },
  {
   "cell_type": "code",
   "execution_count": 5,
   "metadata": {},
   "outputs": [
    {
     "name": "stdout",
     "output_type": "stream",
     "text": [
      "[623, 282, 28, 196, 180, 317, 25, 154, 29]\n",
      "[101, 282, 69, 196, 921, 324, 973, 447, 205, 89, 105, 25, 651, 127]\n"
     ]
    }
   ],
   "source": [
    "i1, i2 = smiles2index(sample_smiles[0],sample_smiles[1])\r\n",
    "print(i1) # I think these are the indexes of the vector to switch to on\r\n",
    "print(i2)\r\n"
   ]
  },
  {
   "cell_type": "code",
   "execution_count": 6,
   "metadata": {},
   "outputs": [],
   "source": [
    "# These are in stream_dde.py \r\n",
    "import numpy as np\r\n",
    "import pandas as pd\r\n",
    "import torch\r\n",
    "from torch.utils import data\r\n",
    "\r\n",
    "from subword_nmt.apply_bpe import BPE\r\n",
    "import codecs # in the standard python library\r\n",
    "dataFolder = './data'\r\n",
    "\r\n",
    "vocab_path = dataFolder + '/codes.txt' # this is a predefined set of common pseduo functional groups defined as common patterns\r\n",
    "bpe_codes_fin = codecs.open(vocab_path)\r\n",
    "bpe = BPE(bpe_codes_fin, merges=-1, separator='')\r\n",
    "\r\n",
    "vocab_map = pd.read_csv(dataFolder + '/subword_units_map.csv')\r\n",
    "idx2word = vocab_map['index'].values\r\n",
    "words2idx = dict(zip(idx2word, range(0, len(idx2word)))) # I think this creates a dictionary \r\n",
    "max_set = 30"
   ]
  },
  {
   "cell_type": "code",
   "execution_count": 7,
   "metadata": {},
   "outputs": [
    {
     "data": {
      "text/plain": "1"
     },
     "execution_count": 7,
     "metadata": {},
     "output_type": "execute_result"
    }
   ],
   "source": [
    "words2idx['#'] # dictionary of pseudo funcitonal groups\r\n"
   ]
  },
  {
   "cell_type": "code",
   "execution_count": 8,
   "metadata": {},
   "outputs": [
    {
     "name": "stdout",
     "output_type": "stream",
     "text": [
      "Clc1ccccc1-c1nc(-c2ccccc2)n[nH]1\n"
     ]
    },
    {
     "data": {
      "text/plain": "['Cl', 'c1ccccc1', '-', 'c1n', 'c(-', 'c2ccccc2)', 'n', '[nH]', '1']"
     },
     "execution_count": 8,
     "metadata": {},
     "output_type": "execute_result"
    }
   ],
   "source": [
    "t1 = bpe.process_line(sample_smiles[0]).split() # this line takes a smile string and breaks into functional groups\r\n",
    "print(sample_smiles[0])\r\n",
    "t1"
   ]
  },
  {
   "cell_type": "code",
   "execution_count": 9,
   "metadata": {},
   "outputs": [
    {
     "data": {
      "text/plain": "''"
     },
     "execution_count": 9,
     "metadata": {},
     "output_type": "execute_result"
    }
   ],
   "source": [
    "bpe_codes_fin.read() # this "
   ]
  },
  {
   "cell_type": "code",
   "execution_count": 10,
   "metadata": {},
   "outputs": [],
   "source": [
    "import numpy as np\r\n",
    "def get_func_groups(smile, bpe) -> list:\r\n",
    "   return bpe.process_line(smile).split()\r\n",
    "\r\n",
    "def func_groups_to_vector(func_list, functional_group_index_dict)-> np.array:\r\n",
    "   indexes =  [functional_group_index_dict[group] for group in func_list] \r\n",
    "   vector_of_smile =v1 = np.zeros(len(functional_group_index_dict),) # initalize as zeros.\r\n",
    "   vector_of_smile[indexes] = 1 # assign all the index of pseudo functional groups present in smile to be 1.\r\n",
    "   return vector_of_smile\r\n",
    "\r\n",
    "def smile_to_vector(smile, bpe, functional_group_index_dict) ->np.array:\r\n",
    "   \"\"\"\r\n",
    "      You should make your own dictionaries for bpe and for functional group index for your own dataset. I don't know what would be best for that\r\n",
    "   \"\"\"\r\n",
    "   functional_groups = get_func_groups(smile, bpe)\r\n",
    "   vector = func_groups_to_vector(functional_groups, functional_group_index_dict)\r\n",
    "   return vector\r\n"
   ]
  },
  {
   "cell_type": "code",
   "execution_count": 11,
   "metadata": {},
   "outputs": [
    {
     "name": "stderr",
     "output_type": "stream",
     "text": [
      "Found local copy...\n",
      "Loading...\n",
      "Done!\n"
     ]
    }
   ],
   "source": [
    "import pandas as pd\r\n",
    "from tdc.single_pred import ADME\r\n",
    "data = ADME(name = 'CYP2C9_Veith')  # this is the binary classification problem\r\n",
    "split = data.get_split()"
   ]
  },
  {
   "cell_type": "code",
   "execution_count": 12,
   "metadata": {},
   "outputs": [],
   "source": [
    "df = split['train'][['Drug', 'Y']]\r\n",
    "\r\n",
    "\r\n",
    "# this is inefficent but that does not matter now just proof of concept\r\n",
    "\r\n",
    "drugs = df['Drug']\r\n",
    "vectors = []\r\n",
    "\r\n",
    "for drug in drugs:\r\n",
    "    vec = smile_to_vector(drug,bpe, words2idx)\r\n",
    "    vectors.append(vec)\r\n"
   ]
  },
  {
   "cell_type": "code",
   "execution_count": null,
   "metadata": {},
   "outputs": [],
   "source": []
  },
  {
   "cell_type": "markdown",
   "metadata": {},
   "source": [
    "# Create a dummy model"
   ]
  },
  {
   "cell_type": "code",
   "execution_count": 13,
   "metadata": {},
   "outputs": [
    {
     "name": "stdout",
     "output_type": "stream",
     "text": [
      "A simple Random Forest had an accuray rate of 56.00000000000001%\n"
     ]
    }
   ],
   "source": [
    "from sklearn.ensemble import RandomForestClassifier\r\n",
    "\r\n",
    "model = RandomForestClassifier(max_depth=5, random_state=42, n_estimators =1000)\r\n",
    "Training_size =7000\r\n",
    "X = pd.DataFrame(np.array(vectors))\r\n",
    "y = df['Y']\r\n",
    "model.fit(X.iloc[:Training_size],y.iloc[:Training_size])\r\n",
    "score = model.score(X.iloc[Training_size:], y.iloc[Training_size:])\r\n",
    "print(f'A simple Random Forest had an accuray rate of { round(score ,2)*100}%')"
   ]
  },
  {
   "cell_type": "code",
   "execution_count": 14,
   "metadata": {},
   "outputs": [
    {
     "name": "stdout",
     "output_type": "stream",
     "text": [
      "There where 0 1s predicted. This is because the training data is unbalenced.\n"
     ]
    }
   ],
   "source": [
    "preds = model.predict(X.iloc[Training_size:])\r\n",
    "print(f'There where {sum(preds)} 1s predicted. This is because the training data is unbalenced.')"
   ]
  },
  {
   "cell_type": "code",
   "execution_count": 15,
   "metadata": {},
   "outputs": [
    {
     "data": {
      "text/html": "<div>\n<style scoped>\n    .dataframe tbody tr th:only-of-type {\n        vertical-align: middle;\n    }\n\n    .dataframe tbody tr th {\n        vertical-align: top;\n    }\n\n    .dataframe thead th {\n        text-align: right;\n    }\n</style>\n<table border=\"1\" class=\"dataframe\">\n  <thead>\n    <tr style=\"text-align: right;\">\n      <th></th>\n      <th>0</th>\n      <th>1</th>\n      <th>2</th>\n      <th>3</th>\n      <th>4</th>\n      <th>5</th>\n      <th>6</th>\n      <th>7</th>\n      <th>8</th>\n      <th>9</th>\n      <th>...</th>\n      <th>1712</th>\n      <th>1713</th>\n      <th>1714</th>\n      <th>1715</th>\n      <th>1716</th>\n      <th>1717</th>\n      <th>1718</th>\n      <th>1719</th>\n      <th>1720</th>\n      <th>1721</th>\n    </tr>\n  </thead>\n  <tbody>\n    <tr>\n      <th>0</th>\n      <td>0.0</td>\n      <td>0.0</td>\n      <td>0.0</td>\n      <td>0.0</td>\n      <td>0.0</td>\n      <td>0.0</td>\n      <td>0.0</td>\n      <td>0.0</td>\n      <td>0.0</td>\n      <td>0.0</td>\n      <td>...</td>\n      <td>0.0</td>\n      <td>0.0</td>\n      <td>0.0</td>\n      <td>0.0</td>\n      <td>0.0</td>\n      <td>0.0</td>\n      <td>0.0</td>\n      <td>0.0</td>\n      <td>0.0</td>\n      <td>0.0</td>\n    </tr>\n    <tr>\n      <th>1</th>\n      <td>0.0</td>\n      <td>0.0</td>\n      <td>0.0</td>\n      <td>0.0</td>\n      <td>0.0</td>\n      <td>0.0</td>\n      <td>0.0</td>\n      <td>0.0</td>\n      <td>0.0</td>\n      <td>0.0</td>\n      <td>...</td>\n      <td>0.0</td>\n      <td>0.0</td>\n      <td>0.0</td>\n      <td>0.0</td>\n      <td>0.0</td>\n      <td>0.0</td>\n      <td>0.0</td>\n      <td>0.0</td>\n      <td>0.0</td>\n      <td>0.0</td>\n    </tr>\n    <tr>\n      <th>2</th>\n      <td>0.0</td>\n      <td>0.0</td>\n      <td>0.0</td>\n      <td>0.0</td>\n      <td>0.0</td>\n      <td>0.0</td>\n      <td>0.0</td>\n      <td>0.0</td>\n      <td>0.0</td>\n      <td>0.0</td>\n      <td>...</td>\n      <td>0.0</td>\n      <td>0.0</td>\n      <td>0.0</td>\n      <td>0.0</td>\n      <td>0.0</td>\n      <td>0.0</td>\n      <td>0.0</td>\n      <td>0.0</td>\n      <td>0.0</td>\n      <td>0.0</td>\n    </tr>\n    <tr>\n      <th>3</th>\n      <td>0.0</td>\n      <td>0.0</td>\n      <td>0.0</td>\n      <td>0.0</td>\n      <td>0.0</td>\n      <td>0.0</td>\n      <td>0.0</td>\n      <td>0.0</td>\n      <td>0.0</td>\n      <td>0.0</td>\n      <td>...</td>\n      <td>0.0</td>\n      <td>0.0</td>\n      <td>0.0</td>\n      <td>0.0</td>\n      <td>0.0</td>\n      <td>0.0</td>\n      <td>0.0</td>\n      <td>0.0</td>\n      <td>0.0</td>\n      <td>0.0</td>\n    </tr>\n    <tr>\n      <th>4</th>\n      <td>0.0</td>\n      <td>0.0</td>\n      <td>0.0</td>\n      <td>0.0</td>\n      <td>0.0</td>\n      <td>1.0</td>\n      <td>0.0</td>\n      <td>0.0</td>\n      <td>0.0</td>\n      <td>0.0</td>\n      <td>...</td>\n      <td>0.0</td>\n      <td>0.0</td>\n      <td>0.0</td>\n      <td>0.0</td>\n      <td>0.0</td>\n      <td>0.0</td>\n      <td>0.0</td>\n      <td>0.0</td>\n      <td>0.0</td>\n      <td>0.0</td>\n    </tr>\n    <tr>\n      <th>...</th>\n      <td>...</td>\n      <td>...</td>\n      <td>...</td>\n      <td>...</td>\n      <td>...</td>\n      <td>...</td>\n      <td>...</td>\n      <td>...</td>\n      <td>...</td>\n      <td>...</td>\n      <td>...</td>\n      <td>...</td>\n      <td>...</td>\n      <td>...</td>\n      <td>...</td>\n      <td>...</td>\n      <td>...</td>\n      <td>...</td>\n      <td>...</td>\n      <td>...</td>\n      <td>...</td>\n    </tr>\n    <tr>\n      <th>8460</th>\n      <td>0.0</td>\n      <td>0.0</td>\n      <td>0.0</td>\n      <td>0.0</td>\n      <td>0.0</td>\n      <td>0.0</td>\n      <td>0.0</td>\n      <td>0.0</td>\n      <td>0.0</td>\n      <td>0.0</td>\n      <td>...</td>\n      <td>0.0</td>\n      <td>0.0</td>\n      <td>0.0</td>\n      <td>0.0</td>\n      <td>0.0</td>\n      <td>0.0</td>\n      <td>0.0</td>\n      <td>0.0</td>\n      <td>0.0</td>\n      <td>0.0</td>\n    </tr>\n    <tr>\n      <th>8461</th>\n      <td>0.0</td>\n      <td>0.0</td>\n      <td>0.0</td>\n      <td>0.0</td>\n      <td>0.0</td>\n      <td>0.0</td>\n      <td>0.0</td>\n      <td>0.0</td>\n      <td>0.0</td>\n      <td>0.0</td>\n      <td>...</td>\n      <td>0.0</td>\n      <td>0.0</td>\n      <td>0.0</td>\n      <td>0.0</td>\n      <td>0.0</td>\n      <td>0.0</td>\n      <td>0.0</td>\n      <td>0.0</td>\n      <td>0.0</td>\n      <td>0.0</td>\n    </tr>\n    <tr>\n      <th>8462</th>\n      <td>0.0</td>\n      <td>0.0</td>\n      <td>0.0</td>\n      <td>0.0</td>\n      <td>0.0</td>\n      <td>0.0</td>\n      <td>0.0</td>\n      <td>0.0</td>\n      <td>0.0</td>\n      <td>0.0</td>\n      <td>...</td>\n      <td>0.0</td>\n      <td>0.0</td>\n      <td>0.0</td>\n      <td>0.0</td>\n      <td>0.0</td>\n      <td>0.0</td>\n      <td>0.0</td>\n      <td>0.0</td>\n      <td>0.0</td>\n      <td>0.0</td>\n    </tr>\n    <tr>\n      <th>8463</th>\n      <td>0.0</td>\n      <td>0.0</td>\n      <td>0.0</td>\n      <td>0.0</td>\n      <td>0.0</td>\n      <td>0.0</td>\n      <td>0.0</td>\n      <td>0.0</td>\n      <td>0.0</td>\n      <td>0.0</td>\n      <td>...</td>\n      <td>0.0</td>\n      <td>0.0</td>\n      <td>0.0</td>\n      <td>0.0</td>\n      <td>0.0</td>\n      <td>0.0</td>\n      <td>0.0</td>\n      <td>0.0</td>\n      <td>0.0</td>\n      <td>0.0</td>\n    </tr>\n    <tr>\n      <th>8464</th>\n      <td>0.0</td>\n      <td>0.0</td>\n      <td>0.0</td>\n      <td>0.0</td>\n      <td>0.0</td>\n      <td>0.0</td>\n      <td>0.0</td>\n      <td>0.0</td>\n      <td>1.0</td>\n      <td>0.0</td>\n      <td>...</td>\n      <td>0.0</td>\n      <td>0.0</td>\n      <td>0.0</td>\n      <td>0.0</td>\n      <td>0.0</td>\n      <td>0.0</td>\n      <td>0.0</td>\n      <td>0.0</td>\n      <td>0.0</td>\n      <td>0.0</td>\n    </tr>\n  </tbody>\n</table>\n<p>8465 rows × 1722 columns</p>\n</div>",
      "text/plain": "      0     1     2     3     4     5     6     7     8     9     ...  1712  \\\n0      0.0   0.0   0.0   0.0   0.0   0.0   0.0   0.0   0.0   0.0  ...   0.0   \n1      0.0   0.0   0.0   0.0   0.0   0.0   0.0   0.0   0.0   0.0  ...   0.0   \n2      0.0   0.0   0.0   0.0   0.0   0.0   0.0   0.0   0.0   0.0  ...   0.0   \n3      0.0   0.0   0.0   0.0   0.0   0.0   0.0   0.0   0.0   0.0  ...   0.0   \n4      0.0   0.0   0.0   0.0   0.0   1.0   0.0   0.0   0.0   0.0  ...   0.0   \n...    ...   ...   ...   ...   ...   ...   ...   ...   ...   ...  ...   ...   \n8460   0.0   0.0   0.0   0.0   0.0   0.0   0.0   0.0   0.0   0.0  ...   0.0   \n8461   0.0   0.0   0.0   0.0   0.0   0.0   0.0   0.0   0.0   0.0  ...   0.0   \n8462   0.0   0.0   0.0   0.0   0.0   0.0   0.0   0.0   0.0   0.0  ...   0.0   \n8463   0.0   0.0   0.0   0.0   0.0   0.0   0.0   0.0   0.0   0.0  ...   0.0   \n8464   0.0   0.0   0.0   0.0   0.0   0.0   0.0   0.0   1.0   0.0  ...   0.0   \n\n      1713  1714  1715  1716  1717  1718  1719  1720  1721  \n0      0.0   0.0   0.0   0.0   0.0   0.0   0.0   0.0   0.0  \n1      0.0   0.0   0.0   0.0   0.0   0.0   0.0   0.0   0.0  \n2      0.0   0.0   0.0   0.0   0.0   0.0   0.0   0.0   0.0  \n3      0.0   0.0   0.0   0.0   0.0   0.0   0.0   0.0   0.0  \n4      0.0   0.0   0.0   0.0   0.0   0.0   0.0   0.0   0.0  \n...    ...   ...   ...   ...   ...   ...   ...   ...   ...  \n8460   0.0   0.0   0.0   0.0   0.0   0.0   0.0   0.0   0.0  \n8461   0.0   0.0   0.0   0.0   0.0   0.0   0.0   0.0   0.0  \n8462   0.0   0.0   0.0   0.0   0.0   0.0   0.0   0.0   0.0  \n8463   0.0   0.0   0.0   0.0   0.0   0.0   0.0   0.0   0.0  \n8464   0.0   0.0   0.0   0.0   0.0   0.0   0.0   0.0   0.0  \n\n[8465 rows x 1722 columns]"
     },
     "execution_count": 15,
     "metadata": {},
     "output_type": "execute_result"
    }
   ],
   "source": [
    "X"
   ]
  },
  {
   "cell_type": "code",
   "execution_count": 16,
   "metadata": {},
   "outputs": [
    {
     "name": "stdout",
     "output_type": "stream",
     "text": [
      "there are 2813 1 targets and 5652 0 targets\n"
     ]
    }
   ],
   "source": [
    "print(f'there are {sum(y)} 1 targets and {len(y) -sum(y)} 0 targets')"
   ]
  },
  {
   "cell_type": "markdown",
   "metadata": {},
   "source": [
    "The dummy predicts that everything is a 0 becasue 3/4 of targets are 0s.\r\n",
    "To address this I am going to balence the dataset"
   ]
  },
  {
   "cell_type": "markdown",
   "metadata": {},
   "source": [
    "# Dummy Regressor after balancing  "
   ]
  },
  {
   "cell_type": "code",
   "execution_count": 17,
   "metadata": {},
   "outputs": [],
   "source": [
    "train_df = X\r\n",
    "num_functional_groups = (train_df == 1).astype(int).sum(axis=1) # this just counts the 1s in each row.\r\n",
    "train_df['num_functional_groups'] = num_functional_groups"
   ]
  },
  {
   "cell_type": "code",
   "execution_count": 18,
   "metadata": {},
   "outputs": [
    {
     "name": "stdout",
     "output_type": "stream",
     "text": [
      "0    5652\n",
      "1    2813\n",
      "Name: Y, dtype: int64\n",
      "11    1007\n",
      "10     974\n",
      "9      914\n",
      "12     907\n",
      "13     732\n",
      "8      669\n",
      "14     548\n",
      "7      543\n",
      "15     415\n",
      "6      372\n",
      "16     284\n",
      "5      235\n",
      "17     191\n",
      "4      136\n",
      "18     133\n",
      "19      94\n",
      "3       64\n",
      "20      58\n",
      "21      49\n",
      "22      30\n",
      "23      27\n",
      "24      24\n",
      "2       15\n",
      "25      12\n",
      "26      10\n",
      "29       5\n",
      "28       4\n",
      "27       3\n",
      "34       3\n",
      "30       3\n",
      "36       1\n",
      "37       1\n",
      "38       1\n",
      "31       1\n",
      "Name: num_functional_groups, dtype: int64\n"
     ]
    }
   ],
   "source": [
    "print(y.value_counts())\r\n",
    "print(train_df['num_functional_groups'].value_counts())"
   ]
  },
  {
   "cell_type": "code",
   "execution_count": 19,
   "metadata": {},
   "outputs": [
    {
     "data": {
      "text/plain": "Text(0, 0.5, 'Count')"
     },
     "execution_count": 19,
     "metadata": {},
     "output_type": "execute_result"
    },
    {
     "data": {
      "image/png": "[encoded data removed]",
      "text/plain": "<Figure size 432x288 with 1 Axes>"
     },
     "metadata": {
      "needs_background": "light"
     },
     "output_type": "display_data"
    }
   ],
   "source": [
    "train_df['num_functional_groups'].hist()\r\n",
    "plt.title('Number of functional groups in each molecule in the training data')\r\n",
    "plt.xlabel('Num Functional Groups')\r\n",
    "plt.ylabel('Count')"
   ]
  },
  {
   "cell_type": "markdown",
   "metadata": {},
   "source": [
    "# Balance with Random Oversampling. \r\n",
    "\r\n",
    "1. This naive method just randomly resamples each category to be the same size. Because there are fewer 1s than 0s this method increases the size of the training data to add more examples of vectors with 1s.\r\n"
   ]
  },
  {
   "cell_type": "code",
   "execution_count": 38,
   "metadata": {},
   "outputs": [
    {
     "data": {
      "text/plain": "0    5652\n1    5652\nName: Y, dtype: int64"
     },
     "execution_count": 38,
     "metadata": {},
     "output_type": "execute_result"
    }
   ],
   "source": [
    "from imblearn.over_sampling import RandomOverSampler\r\n",
    "ros = RandomOverSampler(random_state=0)\r\n",
    "X_resampled, y_resampled = ros.fit_resample(X, y)\r\n",
    "X_resampled = pd.DataFrame(X_resampled)\r\n",
    "y_resampled.value_counts()\r\n",
    "\r\n"
   ]
  },
  {
   "cell_type": "markdown",
   "metadata": {},
   "source": [
    "### Dummy Model with random over sampling"
   ]
  },
  {
   "cell_type": "code",
   "execution_count": 52,
   "metadata": {},
   "outputs": [
    {
     "data": {
      "text/html": "<div>\n<style scoped>\n    .dataframe tbody tr th:only-of-type {\n        vertical-align: middle;\n    }\n\n    .dataframe tbody tr th {\n        vertical-align: top;\n    }\n\n    .dataframe thead th {\n        text-align: right;\n    }\n</style>\n<table border=\"1\" class=\"dataframe\">\n  <thead>\n    <tr style=\"text-align: right;\">\n      <th></th>\n      <th>0</th>\n      <th>1</th>\n      <th>2</th>\n      <th>3</th>\n      <th>4</th>\n      <th>5</th>\n      <th>6</th>\n      <th>7</th>\n      <th>8</th>\n      <th>9</th>\n      <th>...</th>\n      <th>1714</th>\n      <th>1715</th>\n      <th>1716</th>\n      <th>1717</th>\n      <th>1718</th>\n      <th>1719</th>\n      <th>1720</th>\n      <th>1721</th>\n      <th>num_functional_groups</th>\n      <th>target</th>\n    </tr>\n  </thead>\n  <tbody>\n    <tr>\n      <th>0</th>\n      <td>0.0</td>\n      <td>0.0</td>\n      <td>0.0</td>\n      <td>0.0</td>\n      <td>0.0</td>\n      <td>0.0</td>\n      <td>0.0</td>\n      <td>0.0</td>\n      <td>0.0</td>\n      <td>0.0</td>\n      <td>...</td>\n      <td>0.0</td>\n      <td>0.0</td>\n      <td>0.0</td>\n      <td>0.0</td>\n      <td>0.0</td>\n      <td>0.0</td>\n      <td>0.0</td>\n      <td>0.0</td>\n      <td>9</td>\n      <td>1</td>\n    </tr>\n    <tr>\n      <th>1</th>\n      <td>0.0</td>\n      <td>0.0</td>\n      <td>0.0</td>\n      <td>0.0</td>\n      <td>0.0</td>\n      <td>0.0</td>\n      <td>0.0</td>\n      <td>0.0</td>\n      <td>0.0</td>\n      <td>0.0</td>\n      <td>...</td>\n      <td>0.0</td>\n      <td>0.0</td>\n      <td>0.0</td>\n      <td>0.0</td>\n      <td>0.0</td>\n      <td>0.0</td>\n      <td>0.0</td>\n      <td>0.0</td>\n      <td>15</td>\n      <td>1</td>\n    </tr>\n    <tr>\n      <th>2</th>\n      <td>0.0</td>\n      <td>0.0</td>\n      <td>0.0</td>\n      <td>0.0</td>\n      <td>0.0</td>\n      <td>0.0</td>\n      <td>0.0</td>\n      <td>0.0</td>\n      <td>0.0</td>\n      <td>0.0</td>\n      <td>...</td>\n      <td>0.0</td>\n      <td>0.0</td>\n      <td>0.0</td>\n      <td>0.0</td>\n      <td>0.0</td>\n      <td>0.0</td>\n      <td>0.0</td>\n      <td>0.0</td>\n      <td>11</td>\n      <td>0</td>\n    </tr>\n    <tr>\n      <th>3</th>\n      <td>0.0</td>\n      <td>0.0</td>\n      <td>0.0</td>\n      <td>0.0</td>\n      <td>0.0</td>\n      <td>1.0</td>\n      <td>0.0</td>\n      <td>0.0</td>\n      <td>0.0</td>\n      <td>1.0</td>\n      <td>...</td>\n      <td>0.0</td>\n      <td>0.0</td>\n      <td>0.0</td>\n      <td>0.0</td>\n      <td>0.0</td>\n      <td>0.0</td>\n      <td>0.0</td>\n      <td>0.0</td>\n      <td>16</td>\n      <td>1</td>\n    </tr>\n    <tr>\n      <th>4</th>\n      <td>0.0</td>\n      <td>0.0</td>\n      <td>0.0</td>\n      <td>0.0</td>\n      <td>0.0</td>\n      <td>0.0</td>\n      <td>0.0</td>\n      <td>0.0</td>\n      <td>0.0</td>\n      <td>0.0</td>\n      <td>...</td>\n      <td>0.0</td>\n      <td>0.0</td>\n      <td>0.0</td>\n      <td>0.0</td>\n      <td>0.0</td>\n      <td>0.0</td>\n      <td>0.0</td>\n      <td>0.0</td>\n      <td>11</td>\n      <td>0</td>\n    </tr>\n  </tbody>\n</table>\n<p>5 rows × 1724 columns</p>\n</div>",
      "text/plain": "     0    1    2    3    4    5    6    7    8    9  ...  1714  1715  1716  \\\n0  0.0  0.0  0.0  0.0  0.0  0.0  0.0  0.0  0.0  0.0  ...   0.0   0.0   0.0   \n1  0.0  0.0  0.0  0.0  0.0  0.0  0.0  0.0  0.0  0.0  ...   0.0   0.0   0.0   \n2  0.0  0.0  0.0  0.0  0.0  0.0  0.0  0.0  0.0  0.0  ...   0.0   0.0   0.0   \n3  0.0  0.0  0.0  0.0  0.0  1.0  0.0  0.0  0.0  1.0  ...   0.0   0.0   0.0   \n4  0.0  0.0  0.0  0.0  0.0  0.0  0.0  0.0  0.0  0.0  ...   0.0   0.0   0.0   \n\n   1717  1718  1719  1720  1721  num_functional_groups  target  \n0   0.0   0.0   0.0   0.0   0.0                      9       1  \n1   0.0   0.0   0.0   0.0   0.0                     15       1  \n2   0.0   0.0   0.0   0.0   0.0                     11       0  \n3   0.0   0.0   0.0   0.0   0.0                     16       1  \n4   0.0   0.0   0.0   0.0   0.0                     11       0  \n\n[5 rows x 1724 columns]"
     },
     "execution_count": 52,
     "metadata": {},
     "output_type": "execute_result"
    }
   ],
   "source": [
    "oversample_df = X_resampled\r\n",
    "oversample_df['target'] =y_resampled\r\n",
    "oversample_df = oversample_df.sample(frac=1).reset_index(drop=True) # shuffle the rows\r\n",
    "\r\n",
    "oversample_df.head()\r\n"
   ]
  },
  {
   "cell_type": "code",
   "execution_count": 45,
   "metadata": {},
   "outputs": [
    {
     "name": "stdout",
     "output_type": "stream",
     "text": [
      "The accuracy of the Random Forest with random oversampling is 0.7607361963190185\n"
     ]
    }
   ],
   "source": [
    "over_sample_model = RandomForestClassifier(max_depth=5, random_state=42, n_estimators =1000, max_samples=100)\r\n",
    "training_size = 10000\r\n",
    "over_sample_model.fit(X_resampled.iloc[:training_size], y_resampled[:training_size])\r\n",
    "score = over_sample_model.score(X_resampled.iloc[training_size:], y_resampled[training_size:])\r\n",
    "print(f'The accuracy of the Random Forest with random oversampling is {score}')"
   ]
  },
  {
   "cell_type": "code",
   "execution_count": 46,
   "metadata": {},
   "outputs": [
    {
     "name": "stdout",
     "output_type": "stream",
     "text": [
      "(10000,)\n"
     ]
    },
    {
     "data": {
      "text/plain": "0    6737\n1    3263\ndtype: int64"
     },
     "execution_count": 46,
     "metadata": {},
     "output_type": "execute_result"
    }
   ],
   "source": [
    "preds = over_sample_model.predict(X_resampled.iloc[:training_size])\r\n",
    "print(preds.shape)\r\n",
    "pd.Series(preds).value_counts()"
   ]
  },
  {
   "cell_type": "markdown",
   "metadata": {},
   "source": [
    "# Conclusion of dummy model testing\r\n",
    "\r\n",
    "1. The data is not ballenced.%\r\n",
    "2. The base line random forest with 1 hot encoding and a num_functional_groups column had an accuray rate on a subset of the training data of 74%"
   ]
  }
 ],
 "metadata": {
  "kernelspec": {
   "display_name": "Python 3.9.5  ('venv': venv)",
   "name": "pythonjvsc74a57bd04e7892b4f467507d725e34517222c9d31081f1c74175e58fa588dd5bafca0b86"
  },
  "language_info": {
   "codemirror_mode": {
    "name": "ipython",
    "version": 3
   },
   "file_extension": ".py",
   "mimetype": "text/x-python",
   "name": "python",
   "nbconvert_exporter": "python",
   "pygments_lexer": "ipython3",
   "version": "3.9.5"
  },
  "metadata": {
   "interpreter": {
    "hash": "4e7892b4f467507d725e34517222c9d31081f1c74175e58fa588dd5bafca0b86"
   }
  },
  "orig_nbformat": 2
 },
 "nbformat": 4,
 "nbformat_minor": 2
}