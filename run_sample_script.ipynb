{
 "cells": [
  {
   "cell_type": "code",
   "execution_count": 7,
   "metadata": {},
   "outputs": [
    {
     "name": "stdout",
     "output_type": "stream",
     "text": [
      "c:\\Users\\parke\\Documents\\GitHub\\CASTER\\venv\\Scripts\\python.exe\n",
      "c:\\Users\\parke\\Documents\\GitHub\\CASTER\\DDE\n"
     ]
    },
    {
     "ename": "FileNotFoundError",
     "evalue": "[WinError 2] The system cannot find the file specified: 'DDE'",
     "output_type": "error",
     "traceback": [
      "\u001b[1;31m---------------------------------------------------------------------------\u001b[0m",
      "\u001b[1;31mFileNotFoundError\u001b[0m                         Traceback (most recent call last)",
      "\u001b[1;32m<ipython-input-7-61c7db8b2b55>\u001b[0m in \u001b[0;36m<module>\u001b[1;34m\u001b[0m\n\u001b[0;32m      5\u001b[0m \u001b[1;32mimport\u001b[0m \u001b[0mos\u001b[0m\u001b[1;33m\u001b[0m\u001b[1;33m\u001b[0m\u001b[0m\n\u001b[0;32m      6\u001b[0m \u001b[0mprint\u001b[0m\u001b[1;33m(\u001b[0m\u001b[0mos\u001b[0m\u001b[1;33m.\u001b[0m\u001b[0mgetcwd\u001b[0m\u001b[1;33m(\u001b[0m\u001b[1;33m)\u001b[0m\u001b[1;33m)\u001b[0m\u001b[1;33m\u001b[0m\u001b[1;33m\u001b[0m\u001b[0m\n\u001b[1;32m----> 7\u001b[1;33m \u001b[0mos\u001b[0m\u001b[1;33m.\u001b[0m\u001b[0mchdir\u001b[0m\u001b[1;33m(\u001b[0m\u001b[1;34m'DDE'\u001b[0m\u001b[1;33m)\u001b[0m\u001b[1;33m\u001b[0m\u001b[1;33m\u001b[0m\u001b[0m\n\u001b[0m\u001b[0;32m      8\u001b[0m \u001b[0mprint\u001b[0m\u001b[1;33m(\u001b[0m\u001b[0mos\u001b[0m\u001b[1;33m.\u001b[0m\u001b[0mgetcwd\u001b[0m\u001b[1;33m(\u001b[0m\u001b[1;33m)\u001b[0m\u001b[1;33m)\u001b[0m\u001b[1;33m\u001b[0m\u001b[1;33m\u001b[0m\u001b[0m\n",
      "\u001b[1;31mFileNotFoundError\u001b[0m: [WinError 2] The system cannot find the file specified: 'DDE'"
     ]
    }
   ],
   "source": [
    "import sys\r\n",
    "print(sys.executable)\r\n",
    "# should be c:\\Users\\parke\\Documents\\GitHub\\CASTER\\venv\\Scripts\\python.exe\r\n",
    "\r\n",
    "import os\r\n",
    "print(os.getcwd())\r\n",
    "os.chdir('DDE')\r\n",
    "print(os.getcwd())"
   ]
  },
  {
   "cell_type": "code",
   "execution_count": null,
   "metadata": {},
   "outputs": [
    {
     "ename": "NameError",
     "evalue": "name 'pd' is not defined",
     "output_type": "error",
     "traceback": [
      "\u001b[1;31m---------------------------------------------------------------------------\u001b[0m",
      "\u001b[1;31mNameError\u001b[0m                                 Traceback (most recent call last)",
      "\u001b[1;32m<ipython-input-2-b753b559f6f6>\u001b[0m in \u001b[0;36m<module>\u001b[1;34m\u001b[0m\n\u001b[0;32m      1\u001b[0m \u001b[0mpath_to_sup_train_valid_smiles\u001b[0m \u001b[1;33m=\u001b[0m \u001b[1;34m'.\\data\\BIOSNAP\\sup_train_val.csv'\u001b[0m\u001b[1;33m\u001b[0m\u001b[1;33m\u001b[0m\u001b[0m\n\u001b[1;32m----> 2\u001b[1;33m \u001b[0mdf\u001b[0m \u001b[1;33m=\u001b[0m \u001b[0mpd\u001b[0m\u001b[1;33m.\u001b[0m\u001b[0mread_csv\u001b[0m\u001b[1;33m(\u001b[0m\u001b[0mpath_to_sup_train_valid\u001b[0m\u001b[1;33m)\u001b[0m\u001b[1;33m\u001b[0m\u001b[1;33m\u001b[0m\u001b[0m\n\u001b[0m\u001b[0;32m      3\u001b[0m \u001b[0mdf\u001b[0m\u001b[1;33m.\u001b[0m\u001b[0mhead\u001b[0m\u001b[1;33m(\u001b[0m\u001b[1;33m)\u001b[0m\u001b[1;33m\u001b[0m\u001b[1;33m\u001b[0m\u001b[0m\n",
      "\u001b[1;31mNameError\u001b[0m: name 'pd' is not defined"
     ]
    }
   ],
   "source": [
    "path_to_sup_train_valid_smiles = '.\\data\\BIOSNAP\\sup_train_val.csv'\r\n",
    "df = pd.read_csv(path_to_sup_train_valid)\r\n",
    "df.head()"
   ]
  },
  {
   "cell_type": "markdown",
   "metadata": {},
   "source": [
    "# the import work in the current venv\r\n",
    "\r\n",
    "1. there is now a problem with only using cpus for the deep learning"
   ]
  },
  {
   "cell_type": "code",
   "execution_count": 10,
   "metadata": {},
   "outputs": [
    {
     "name": "stdout",
     "output_type": "stream",
     "text": [
      "c:\\Users\\parke\\Documents\\GitHub\\CASTER\\DDE\n",
      "you are already in DDE\n",
      "c:\\Users\\parke\\Documents\\GitHub\\CASTER\\DDE\n"
     ]
    },
    {
     "data": {
      "text/plain": "device(type='cpu')"
     },
     "execution_count": 10,
     "metadata": {},
     "output_type": "execute_result"
    }
   ],
   "source": [
    "import os\r\n",
    "print(os.getcwd())\r\n",
    "try:\r\n",
    "    os.chdir('DDE')\r\n",
    "except:\r\n",
    "    print('you are already in DDE')\r\n",
    "    print(os.getcwd())\r\n",
    "\r\n",
    "\r\n",
    "import torch\r\n",
    "from torch.autograd import Variable\r\n",
    "import torch.nn.functional as F\r\n",
    "from torch.utils import data\r\n",
    "from torch import nn \r\n",
    "import copy\r\n",
    "\r\n",
    "from tqdm import tqdm\r\n",
    "import matplotlib.pyplot as plt\r\n",
    "import numpy as np\r\n",
    "import pandas as pd\r\n",
    "from time import time\r\n",
    "from sklearn.metrics import roc_auc_score, precision_recall_curve\r\n",
    "from sklearn.model_selection import KFold\r\n",
    "torch.manual_seed(2)    # reproducible torch:2 np:3\r\n",
    "np.random.seed(3)\r\n",
    "\r\n",
    "from dde_config import dde_NN_config\r\n",
    "from dde_torch import dde_NN_Large_Predictor\r\n",
    "from stream_dde import supData, unsupData\r\n",
    "\r\n",
    "use_cuda = torch.cuda.is_available()\r\n",
    "device = torch.device(\"cuda:0\" if torch.cuda.is_available() else \"cpu\")\r\n",
    "# torch.device('cpu') # hard coded this because I don't have any GPUs\r\n",
    "device"
   ]
  },
  {
   "cell_type": "code",
   "execution_count": null,
   "metadata": {},
   "outputs": [
    {
     "data": {
      "text/plain": "False"
     },
     "execution_count": 3,
     "metadata": {},
     "output_type": "execute_result"
    }
   ],
   "source": [
    "torch.cuda.is_available()"
   ]
  },
  {
   "cell_type": "code",
   "execution_count": 18,
   "metadata": {},
   "outputs": [],
   "source": [
    "def test_dde_nn(data_generator, model_nn):\r\n",
    "    y_pred = []\r\n",
    "    y_label = []\r\n",
    "    model_nn.eval()\r\n",
    "    for i, (v_D, label) in enumerate(data_generator):\r\n",
    "        recon, code, score, Z_f, z_D = model_nn(v_D.float().cuda())\r\n",
    "        m = torch.nn.Sigmoid()\r\n",
    "        logits = torch.squeeze(m(score)).detach().cpu().numpy()\r\n",
    "        label_ids = label.to('cpu').numpy()\r\n",
    "        y_label = y_label + label_ids.flatten().tolist()\r\n",
    "        y_pred = y_pred + logits.flatten().tolist()\r\n",
    "\r\n",
    "    return roc_auc_score(y_label, y_pred), y_pred\r\n",
    "\r\n",
    "# This needs to be broken up into different methods. Right now it is 100< lines long\r\n",
    "def main_dde_nn():\r\n",
    "    config = dde_NN_config()\r\n",
    "    pretrain_epoch = config['pretrain_epoch']\r\n",
    "    pretrain_epoch = 0\r\n",
    "    train_epoch = 9\r\n",
    "    lr = config['LR']\r\n",
    "    thr = config['recon_threshold']\r\n",
    "    recon_loss_coeff = config['reconstruction_coefficient']\r\n",
    "    proj_coeff = config['projection_coefficient']\r\n",
    "    lambda1 = config['lambda1']\r\n",
    "    lambda2 = config['lambda2']\r\n",
    "    BATCH_SIZE = config['batch_size']\r\n",
    "    \r\n",
    "    loss_r_history = []\r\n",
    "    loss_p_history = []\r\n",
    "    loss_c_history = []\r\n",
    "    loss_history = []\r\n",
    "    \r\n",
    "    model_nn = dde_NN_Large_Predictor(**config)  # I am uncommenting out this to try it\r\n",
    "    # path = 'model_pretrain_checkpoint_1.pt'\r\n",
    "    # model_nn = torch.load(path, 'cpu') # added 'cpu' to this to make it run on only CPUs\r\n",
    "    # model_nn.cuda()\r\n",
    "    \r\n",
    "    # if torch.cuda.device_count() > 1:\r\n",
    "    #     print(\"Let's use\", torch.cuda.device_count(), \"GPUs!\")\r\n",
    "    #     model_nn = nn.DataParallel(model_nn)\r\n",
    "        \r\n",
    "    opt = torch.optim.Adam(model_nn.parameters(), lr = lr)\r\n",
    "    \r\n",
    "    print('--- Data Preparation ---')\r\n",
    "    \r\n",
    "    params = {'batch_size': BATCH_SIZE,\r\n",
    "              'shuffle': True,\r\n",
    "              'num_workers': 6}\r\n",
    "\r\n",
    "    dataFolder = './data'\r\n",
    "\r\n",
    "    df_unsup = pd.read_csv(r'data\\unsup_dataset.csv', names = ['idx', 'input1_SMILES', 'input2_SMILES', 'type']).drop(0) # pairs dataframe input1_smiles, input2_smiles\r\n",
    "    #df_ddi = pd.read_csv(dataFolder + '/BIOSNAP/sup_train_val.csv')  ## ddi dataframe drug1_smiles, drug2_smiles\r\n",
    "    df_ddi = pd.read_csv(r'data\\BIOSNAP\\sup_train_val.csv')\r\n",
    "\r\n",
    "    #5-fold\r\n",
    "    kf = KFold(n_splits = 8, shuffle = True, random_state = 3)\r\n",
    "    #get the 1st fold index\r\n",
    "    fold_index = next(kf.split(df_ddi), None)\r\n",
    "\r\n",
    "    ids_unsup = df_unsup.index.values\r\n",
    "    partition_sup = {'train': fold_index[0], 'val': fold_index[1]}\r\n",
    "    labels_sup = df_ddi.label.values\r\n",
    "\r\n",
    "    unsup_set = unsupData(ids_unsup, df_unsup)\r\n",
    "    unsup_generator = data.DataLoader(unsup_set, **params)\r\n",
    "\r\n",
    "    training_set = supData(partition_sup['train'], labels_sup, df_ddi)\r\n",
    "    training_generator_sup = data.DataLoader(training_set, **params)\r\n",
    "\r\n",
    "    validation_set = supData(partition_sup['val'], labels_sup, df_ddi)\r\n",
    "    validation_generator_sup = data.DataLoader(validation_set, **params)\r\n",
    "    \r\n",
    "    max_auc = 0\r\n",
    "    model_max = copy.deepcopy(model_nn)\r\n",
    "    \r\n",
    "    print('--- Pre-training Starts ---')\r\n",
    "    torch.backends.cudnn.benchmark = True\r\n",
    "    len_unsup = len(unsup_generator)\r\n",
    "    for pre_epo in range(pretrain_epoch):\r\n",
    "        for i, v_D in enumerate(unsup_generator):\r\n",
    "            v_D = v_D.float().cuda()\r\n",
    "            recon, code, score, Z_f, z_D = model_nn(v_D)\r\n",
    "            loss_r = recon_loss_coeff * F.binary_cross_entropy(recon, v_D.float())\r\n",
    "            \r\n",
    "            loss_p = proj_coeff * (torch.norm(z_D - torch.matmul(code, Z_f)) + lambda1 * torch.sum(torch.abs(code)) / BATCH_SIZE + lambda2 * torch.norm(Z_f, p='fro') / BATCH_SIZE)\r\n",
    "            loss = loss_r + loss_p\r\n",
    "            \r\n",
    "            loss_r_history.append(loss_r)\r\n",
    "            loss_p_history.append(loss_p)\r\n",
    "            loss_history.append(loss)\r\n",
    "\r\n",
    "            opt.zero_grad()\r\n",
    "            loss.backward()\r\n",
    "            opt.step()\r\n",
    "            \r\n",
    "            if(i % 10 == 0):\r\n",
    "                print('Pre-Training at Epoch ' + str(pre_epo) + ' iteration ' + str(i) + ', total loss is '\r\n",
    "                      + '%.3f' % (loss.cpu().detach().numpy()) + ', proj loss is ' + '%.3f' % (loss_p.cpu().detach().numpy()) \r\n",
    "                      + ', recon loss is ' + '%.3f' % (loss_r.cpu().detach().numpy()))\r\n",
    "\r\n",
    "            if loss_r < thr:\r\n",
    "                # smaller than certain reconstruction error, -> go to training step\r\n",
    "                break\r\n",
    "        \r\n",
    "            if i == int(len_unsup/4):\r\n",
    "                torch.save(model_nn, 'model_pretrain_checkpoint_1.pt')\r\n",
    "            if i == int(len_unsup/2):\r\n",
    "                torch.save(model_nn, 'model_pretrain_checkpoint_1.pt')\r\n",
    "        torch.save(model_nn, 'model_nn_pretrain.pt')\r\n",
    "            \r\n",
    "    print('--- Go for Training ---')\r\n",
    "    \r\n",
    "    for tr_epo in range(train_epoch):\r\n",
    "        for i, (v_D, label) in enumerate(training_generator_sup):\r\n",
    "            print(type(i))\r\n",
    "            print(type(v_D))\r\n",
    "            print(v_D)\r\n",
    "            print(type(label))\r\n",
    "            print(label)\r\n",
    "            adddd = input('press a key to conintue')\r\n",
    "            v_D = v_D.float().cuda()\r\n",
    "            recon, code, score, Z_f, z_D = model_nn(v_D)\r\n",
    "            adddd = input('press a key to conintue')\r\n",
    "            \r\n",
    "            label = Variable(torch.from_numpy(np.array(label)).long())\r\n",
    "            loss_fct = torch.nn.BCELoss()\r\n",
    "            m = torch.nn.Sigmoid()\r\n",
    "            n = torch.squeeze(m(score))\r\n",
    "            \r\n",
    "            loss_c = loss_fct(n, label.float().cuda())\r\n",
    "            loss_r = recon_loss_coeff * F.binary_cross_entropy(recon, v_D.float())\r\n",
    "            \r\n",
    "            loss_p = proj_coeff * (torch.norm(z_D - torch.matmul(code, Z_f)) + lambda1 * torch.sum(torch.abs(code)) / BATCH_SIZE + lambda2 * torch.norm(Z_f, p='fro') / BATCH_SIZE)\r\n",
    "            \r\n",
    "            loss = loss_c + loss_r + loss_p\r\n",
    "            loss_r_history.append(loss_r)\r\n",
    "            loss_p_history.append(loss_p)\r\n",
    "            loss_c_history.append(loss_c)\r\n",
    "            loss_history.append(loss)\r\n",
    "\r\n",
    "            opt.zero_grad()\r\n",
    "            loss.backward()\r\n",
    "            opt.step()\r\n",
    "                    \r\n",
    "            if(i % 20 == 0):\r\n",
    "                print('Training at Epoch ' + str(tr_epo) + ' iteration ' + str(i) + ', total loss is ' + '%.3f' % (loss.cpu().detach().numpy()) + ', proj loss is ' + '%.3f' %(loss_p.cpu().detach().numpy()) + ', recon loss is ' + '%.3f' %(loss_r.cpu().detach().numpy()) + ', classification loss is ' + '%.3f' % (loss_c.cpu().detach().numpy()))\r\n",
    "            \r\n",
    "        with torch.set_grad_enabled(False):\r\n",
    "            auc, logits = test_dde_nn(validation_generator_sup, model_nn)\r\n",
    "            if auc > max_auc:\r\n",
    "                model_max = copy.deepcopy(model_nn)\r\n",
    "                max_auc = auc\r\n",
    "                path = 'model_train_checkpoint_SNAP_EarlyStopping_SemiSup_Full_Run3.pt'\r\n",
    "                torch.save(model_nn, path)    \r\n",
    "            print('Test at Epoch '+ str(tr_epo) + ' , AUC: '+ str(auc))\r\n",
    "        \r\n",
    "    return model_max, loss_c_history, loss_r_history, loss_p_history\r\n",
    "\r\n",
    "                "
   ]
  },
  {
   "cell_type": "code",
   "execution_count": 19,
   "metadata": {},
   "outputs": [
    {
     "name": "stdout",
     "output_type": "stream",
     "text": [
      "--- Data Preparation ---\n"
     ]
    },
    {
     "name": "stderr",
     "output_type": "stream",
     "text": [
      "c:\\Users\\parke\\Documents\\GitHub\\CASTER\\venv\\lib\\site-packages\\IPython\\core\\interactiveshell.py:3361: DtypeWarning: Columns (0) have mixed types.Specify dtype option on import or set low_memory=False.\n",
      "  if (await self.run_code(code, result,  async_=asy)):\n"
     ]
    },
    {
     "name": "stdout",
     "output_type": "stream",
     "text": [
      "--- Pre-training Starts ---\n",
      "--- Go for Training ---\n",
      "<class 'int'>\n",
      "<class 'torch.Tensor'>\n",
      "tensor([[0., 0., 0.,  ..., 0., 0., 0.],\n",
      "        [0., 0., 0.,  ..., 0., 0., 0.],\n",
      "        [0., 0., 0.,  ..., 0., 0., 0.],\n",
      "        ...,\n",
      "        [0., 0., 0.,  ..., 0., 0., 0.],\n",
      "        [0., 0., 0.,  ..., 0., 0., 0.],\n",
      "        [0., 0., 0.,  ..., 0., 0., 0.]], dtype=torch.float64)\n",
      "<class 'torch.Tensor'>\n",
      "tensor([1., 1., 1., 1., 0., 1., 0., 0., 1., 0., 0., 1., 1., 1., 0., 0., 0., 1.,\n",
      "        1., 1., 0., 1., 0., 0., 1., 1., 0., 1., 0., 1., 0., 1., 0., 0., 1., 0.,\n",
      "        0., 1., 1., 0., 0., 0., 1., 0., 0., 0., 0., 0., 1., 1., 1., 0., 0., 1.,\n",
      "        1., 0., 0., 1., 0., 1., 1., 1., 0., 1., 0., 1., 1., 0., 1., 1., 1., 0.,\n",
      "        0., 0., 1., 1., 0., 1., 1., 0., 0., 1., 1., 0., 0., 1., 0., 1., 1., 1.,\n",
      "        1., 1., 0., 0., 0., 1., 1., 1., 0., 1., 0., 1., 0., 1., 0., 0., 0., 0.,\n",
      "        1., 1., 0., 1., 0., 0., 1., 1., 0., 0., 1., 1., 0., 1., 1., 0., 0., 1.,\n",
      "        1., 1., 1., 0., 1., 0., 1., 0., 1., 1., 0., 0., 0., 1., 1., 0., 0., 0.,\n",
      "        0., 1., 1., 0., 0., 0., 1., 1., 1., 0., 1., 0., 0., 0., 0., 0., 0., 1.,\n",
      "        0., 1., 1., 1., 0., 1., 0., 1., 1., 1., 1., 0., 0., 1., 0., 0., 1., 1.,\n",
      "        1., 1., 1., 0., 1., 0., 1., 1., 0., 0., 1., 0., 0., 0., 1., 1., 0., 0.,\n",
      "        1., 1., 1., 0., 0., 1., 1., 0., 1., 1., 0., 1., 0., 0., 0., 0., 0., 1.,\n",
      "        1., 1., 0., 1., 0., 0., 0., 0., 1., 0., 1., 0., 0., 0., 1., 0., 0., 1.,\n",
      "        0., 1., 0., 1., 1., 0., 1., 0., 0., 0., 0., 1., 1., 0., 0., 0., 0., 1.,\n",
      "        1., 0., 0., 0.], dtype=torch.float64)\n"
     ]
    },
    {
     "ename": "KeyboardInterrupt",
     "evalue": "Interrupted by user",
     "output_type": "error",
     "traceback": [
      "\u001b[1;31m---------------------------------------------------------------------------\u001b[0m",
      "\u001b[1;31mKeyboardInterrupt\u001b[0m                         Traceback (most recent call last)",
      "\u001b[1;32m<ipython-input-19-aa5b73a4c970>\u001b[0m in \u001b[0;36m<module>\u001b[1;34m\u001b[0m\n\u001b[0;32m      1\u001b[0m \u001b[1;32mif\u001b[0m \u001b[0m__name__\u001b[0m \u001b[1;33m==\u001b[0m \u001b[1;34m'__main__'\u001b[0m\u001b[1;33m:\u001b[0m\u001b[1;33m\u001b[0m\u001b[1;33m\u001b[0m\u001b[0m\n\u001b[1;32m----> 2\u001b[1;33m    \u001b[0mmodel_max\u001b[0m\u001b[1;33m,\u001b[0m \u001b[0mloss_c\u001b[0m\u001b[1;33m,\u001b[0m \u001b[0mloss_r\u001b[0m\u001b[1;33m,\u001b[0m \u001b[0mloss_p\u001b[0m \u001b[1;33m=\u001b[0m \u001b[0mmain_dde_nn\u001b[0m\u001b[1;33m(\u001b[0m\u001b[1;33m)\u001b[0m\u001b[1;33m\u001b[0m\u001b[1;33m\u001b[0m\u001b[0m\n\u001b[0m\u001b[0;32m      3\u001b[0m    \u001b[1;32mpass\u001b[0m\u001b[1;33m\u001b[0m\u001b[1;33m\u001b[0m\u001b[0m\n",
      "\u001b[1;32m<ipython-input-18-1c56742732ab>\u001b[0m in \u001b[0;36mmain_dde_nn\u001b[1;34m()\u001b[0m\n\u001b[0;32m    120\u001b[0m             \u001b[0mprint\u001b[0m\u001b[1;33m(\u001b[0m\u001b[0mtype\u001b[0m\u001b[1;33m(\u001b[0m\u001b[0mlabel\u001b[0m\u001b[1;33m)\u001b[0m\u001b[1;33m)\u001b[0m\u001b[1;33m\u001b[0m\u001b[1;33m\u001b[0m\u001b[0m\n\u001b[0;32m    121\u001b[0m             \u001b[0mprint\u001b[0m\u001b[1;33m(\u001b[0m\u001b[0mlabel\u001b[0m\u001b[1;33m)\u001b[0m\u001b[1;33m\u001b[0m\u001b[1;33m\u001b[0m\u001b[0m\n\u001b[1;32m--> 122\u001b[1;33m             \u001b[0madddd\u001b[0m \u001b[1;33m=\u001b[0m \u001b[0minput\u001b[0m\u001b[1;33m(\u001b[0m\u001b[1;34m'press a key to conintue'\u001b[0m\u001b[1;33m)\u001b[0m\u001b[1;33m\u001b[0m\u001b[1;33m\u001b[0m\u001b[0m\n\u001b[0m\u001b[0;32m    123\u001b[0m             \u001b[0mv_D\u001b[0m \u001b[1;33m=\u001b[0m \u001b[0mv_D\u001b[0m\u001b[1;33m.\u001b[0m\u001b[0mfloat\u001b[0m\u001b[1;33m(\u001b[0m\u001b[1;33m)\u001b[0m\u001b[1;33m.\u001b[0m\u001b[0mcuda\u001b[0m\u001b[1;33m(\u001b[0m\u001b[1;33m)\u001b[0m\u001b[1;33m\u001b[0m\u001b[1;33m\u001b[0m\u001b[0m\n\u001b[0;32m    124\u001b[0m             \u001b[0mrecon\u001b[0m\u001b[1;33m,\u001b[0m \u001b[0mcode\u001b[0m\u001b[1;33m,\u001b[0m \u001b[0mscore\u001b[0m\u001b[1;33m,\u001b[0m \u001b[0mZ_f\u001b[0m\u001b[1;33m,\u001b[0m \u001b[0mz_D\u001b[0m \u001b[1;33m=\u001b[0m \u001b[0mmodel_nn\u001b[0m\u001b[1;33m(\u001b[0m\u001b[0mv_D\u001b[0m\u001b[1;33m)\u001b[0m\u001b[1;33m\u001b[0m\u001b[1;33m\u001b[0m\u001b[0m\n",
      "\u001b[1;32mc:\\Users\\parke\\Documents\\GitHub\\CASTER\\venv\\lib\\site-packages\\ipykernel\\kernelbase.py\u001b[0m in \u001b[0;36mraw_input\u001b[1;34m(self, prompt)\u001b[0m\n\u001b[0;32m    846\u001b[0m                 \u001b[1;34m\"raw_input was called, but this frontend does not support input requests.\"\u001b[0m\u001b[1;33m\u001b[0m\u001b[1;33m\u001b[0m\u001b[0m\n\u001b[0;32m    847\u001b[0m             )\n\u001b[1;32m--> 848\u001b[1;33m         return self._input_request(str(prompt),\n\u001b[0m\u001b[0;32m    849\u001b[0m             \u001b[0mself\u001b[0m\u001b[1;33m.\u001b[0m\u001b[0m_parent_ident\u001b[0m\u001b[1;33m,\u001b[0m\u001b[1;33m\u001b[0m\u001b[1;33m\u001b[0m\u001b[0m\n\u001b[0;32m    850\u001b[0m             \u001b[0mself\u001b[0m\u001b[1;33m.\u001b[0m\u001b[0m_parent_header\u001b[0m\u001b[1;33m,\u001b[0m\u001b[1;33m\u001b[0m\u001b[1;33m\u001b[0m\u001b[0m\n",
      "\u001b[1;32mc:\\Users\\parke\\Documents\\GitHub\\CASTER\\venv\\lib\\site-packages\\ipykernel\\kernelbase.py\u001b[0m in \u001b[0;36m_input_request\u001b[1;34m(self, prompt, ident, parent, password)\u001b[0m\n\u001b[0;32m    890\u001b[0m             \u001b[1;32mexcept\u001b[0m \u001b[0mKeyboardInterrupt\u001b[0m\u001b[1;33m:\u001b[0m\u001b[1;33m\u001b[0m\u001b[1;33m\u001b[0m\u001b[0m\n\u001b[0;32m    891\u001b[0m                 \u001b[1;31m# re-raise KeyboardInterrupt, to truncate traceback\u001b[0m\u001b[1;33m\u001b[0m\u001b[1;33m\u001b[0m\u001b[1;33m\u001b[0m\u001b[0m\n\u001b[1;32m--> 892\u001b[1;33m                 \u001b[1;32mraise\u001b[0m \u001b[0mKeyboardInterrupt\u001b[0m\u001b[1;33m(\u001b[0m\u001b[1;34m\"Interrupted by user\"\u001b[0m\u001b[1;33m)\u001b[0m \u001b[1;32mfrom\u001b[0m \u001b[1;32mNone\u001b[0m\u001b[1;33m\u001b[0m\u001b[1;33m\u001b[0m\u001b[0m\n\u001b[0m\u001b[0;32m    893\u001b[0m             \u001b[1;32mexcept\u001b[0m \u001b[0mException\u001b[0m \u001b[1;32mas\u001b[0m \u001b[0me\u001b[0m\u001b[1;33m:\u001b[0m\u001b[1;33m\u001b[0m\u001b[1;33m\u001b[0m\u001b[0m\n\u001b[0;32m    894\u001b[0m                 \u001b[0mself\u001b[0m\u001b[1;33m.\u001b[0m\u001b[0mlog\u001b[0m\u001b[1;33m.\u001b[0m\u001b[0mwarning\u001b[0m\u001b[1;33m(\u001b[0m\u001b[1;34m\"Invalid Message:\"\u001b[0m\u001b[1;33m,\u001b[0m \u001b[0mexc_info\u001b[0m\u001b[1;33m=\u001b[0m\u001b[1;32mTrue\u001b[0m\u001b[1;33m)\u001b[0m\u001b[1;33m\u001b[0m\u001b[1;33m\u001b[0m\u001b[0m\n",
      "\u001b[1;31mKeyboardInterrupt\u001b[0m: Interrupted by user"
     ]
    }
   ],
   "source": [
    " if __name__ == '__main__':\r\n",
    "    model_max, loss_c, loss_r, loss_p = main_dde_nn()\r\n",
    "    pass"
   ]
  },
  {
   "cell_type": "code",
   "execution_count": null,
   "metadata": {},
   "outputs": [
    {
     "data": {
      "text/plain": [
       "[<matplotlib.lines.Line2D at 0x2aabbf9d62b0>]"
      ]
     },
     "execution_count": 5,
     "metadata": {},
     "output_type": "execute_result"
    },
    {
     "data": {
      "image/png": "[encoded data removed]",
      "text/plain": [
       "<matplotlib.figure.Figure at 0x2aabbe64afd0>"
      ]
     },
     "metadata": {
      "needs_background": "light"
     },
     "output_type": "display_data"
    }
   ],
   "source": [
    "plt.plot(loss_c)"
   ]
  },
  {
   "cell_type": "code",
   "execution_count": null,
   "metadata": {},
   "outputs": [
    {
     "name": "stderr",
     "output_type": "stream",
     "text": [
      "63it [13:01, 12.41s/it]\n"
     ]
    }
   ],
   "source": [
    "from matplotlib import pyplot as plt\r\n",
    "params = {'batch_size': 256,\r\n",
    "              'shuffle': True,\r\n",
    "              'num_workers': 6}\r\n",
    "\r\n",
    "dataFolder = './data'\r\n",
    "\r\n",
    "df_ddi = pd.read_csv('../data/BIOSNAP/sup_test.csv')  # ddi dataframe drug1_smiles, drug2_smiles\r\n",
    "labels_sup = df_ddi.label.values\r\n",
    "test_set = supData(df_ddi.index.values, labels_sup, df_ddi)\r\n",
    "test_generator_sup = data.DataLoader(test_set, **params)\r\n",
    "\r\n",
    "model_nn = model_max\r\n",
    "\r\n",
    "y_pred = []\r\n",
    "y_label = []\r\n",
    "model_nn.eval()\r\n",
    "for i, (v_D, label) in tqdm(enumerate(test_generator_sup)):\r\n",
    "    recon, code, score, Z_f, z_D = model_nn(v_D.float())\r\n",
    "    m = torch.nn.Sigmoid()\r\n",
    "    logits = torch.squeeze(m(score)).detach().cpu().numpy()\r\n",
    "    label_ids = label.to('cpu').numpy()\r\n",
    "    y_label = y_label + label_ids.flatten().tolist()\r\n",
    "    y_pred = y_pred + logits.flatten().tolist()"
   ]
  },
  {
   "cell_type": "code",
   "execution_count": null,
   "metadata": {},
   "outputs": [
    {
     "data": {
      "text/plain": [
       "0.8941994440870269"
      ]
     },
     "execution_count": 13,
     "metadata": {},
     "output_type": "execute_result"
    },
    {
     "data": {
      "image/png": "[encoded data removed]",
      "text/plain": [
       "<matplotlib.figure.Figure at 0x2aabbf972940>"
      ]
     },
     "metadata": {
      "needs_background": "light"
     },
     "output_type": "display_data"
    }
   ],
   "source": [
    "from sklearn.metrics import average_precision_score\n",
    "average_precision_score(y_label, y_pred)\n",
    "from sklearn.metrics import precision_recall_curve\n",
    "from sklearn.utils.fixes import signature\n",
    "average_precision = average_precision_score(y_label, y_pred)\n",
    "precision, recall, _ = precision_recall_curve(y_label, y_pred)\n",
    "\n",
    "# In matplotlib < 1.5, plt.fill_between does not have a 'step' argument\n",
    "step_kwargs = ({'step': 'post'}\n",
    "               if 'step' in signature(plt.fill_between).parameters\n",
    "               else {})\n",
    "plt.step(recall, precision, color='b', alpha=0.2,\n",
    "         where='post')\n",
    "plt.fill_between(recall, precision, alpha=0.2, color='b', **step_kwargs)\n",
    "\n",
    "plt.xlabel('Recall')\n",
    "plt.ylabel('Precision')\n",
    "plt.ylim([0.0, 1.05])\n",
    "plt.xlim([0.0, 1.0])\n",
    "plt.title('2-class Precision-Recall curve: AP={0:0.2f}'.format(\n",
    "          average_precision))\n",
    "average_precision"
   ]
  },
  {
   "cell_type": "code",
   "execution_count": null,
   "metadata": {},
   "outputs": [
    {
     "ename": "NameError",
     "evalue": "name 'y_label' is not defined",
     "output_type": "error",
     "traceback": [
      "\u001b[1;31m---------------------------------------------------------------------------\u001b[0m",
      "\u001b[1;31mNameError\u001b[0m                                 Traceback (most recent call last)",
      "\u001b[1;32m<ipython-input-10-08c5e5dece31>\u001b[0m in \u001b[0;36m<module>\u001b[1;34m\u001b[0m\n\u001b[0;32m      1\u001b[0m \u001b[1;32mfrom\u001b[0m \u001b[0msklearn\u001b[0m\u001b[1;33m.\u001b[0m\u001b[0mmetrics\u001b[0m \u001b[1;32mimport\u001b[0m \u001b[0mroc_auc_score\u001b[0m\u001b[1;33m,\u001b[0m \u001b[0mprecision_recall_curve\u001b[0m\u001b[1;33m,\u001b[0m \u001b[0mroc_curve\u001b[0m\u001b[1;33m,\u001b[0m \u001b[0mauc\u001b[0m\u001b[1;33m,\u001b[0m \u001b[0mconfusion_matrix\u001b[0m\u001b[1;33m,\u001b[0m \u001b[0mclassification_report\u001b[0m\u001b[1;33m\u001b[0m\u001b[1;33m\u001b[0m\u001b[0m\n\u001b[0;32m      2\u001b[0m \u001b[1;33m\u001b[0m\u001b[0m\n\u001b[1;32m----> 3\u001b[1;33m \u001b[0mfpr\u001b[0m\u001b[1;33m,\u001b[0m \u001b[0mtpr\u001b[0m\u001b[1;33m,\u001b[0m \u001b[0mthresholds\u001b[0m \u001b[1;33m=\u001b[0m \u001b[0mroc_curve\u001b[0m\u001b[1;33m(\u001b[0m\u001b[0my_label\u001b[0m\u001b[1;33m,\u001b[0m \u001b[0my_pred\u001b[0m\u001b[1;33m)\u001b[0m\u001b[1;33m\u001b[0m\u001b[1;33m\u001b[0m\u001b[0m\n\u001b[0m\u001b[0;32m      4\u001b[0m \u001b[0mauc_score\u001b[0m \u001b[1;33m=\u001b[0m \u001b[0mauc\u001b[0m\u001b[1;33m(\u001b[0m\u001b[0mfpr\u001b[0m\u001b[1;33m,\u001b[0m \u001b[0mtpr\u001b[0m\u001b[1;33m)\u001b[0m\u001b[1;33m\u001b[0m\u001b[1;33m\u001b[0m\u001b[0m\n\u001b[0;32m      5\u001b[0m \u001b[1;33m\u001b[0m\u001b[0m\n",
      "\u001b[1;31mNameError\u001b[0m: name 'y_label' is not defined"
     ]
    }
   ],
   "source": [
    "from sklearn.metrics import roc_auc_score, precision_recall_curve, roc_curve, auc, confusion_matrix, classification_report\n",
    "\n",
    "fpr, tpr, thresholds = roc_curve(y_label, y_pred)\n",
    "auc_score = auc(fpr, tpr)\n",
    "\n",
    "plt.figure(1)\n",
    "plt.plot([0, 1], [0, 1], 'k--')\n",
    "plt.plot(fpr, tpr, label='Val (area = {:.3f})'.format(auc_score))\n",
    "plt.xlabel('False positive rate')\n",
    "plt.ylabel('True positive rate')\n",
    "plt.title('ROC curve')\n",
    "plt.legend(loc='best')"
   ]
  },
  {
   "cell_type": "code",
   "execution_count": null,
   "metadata": {},
   "outputs": [],
   "source": []
  }
 ],
 "metadata": {
  "kernelspec": {
   "display_name": "Python 3.9.5 64-bit ('venv': venv)",
   "name": "pythonjvsc74a57bd04e7892b4f467507d725e34517222c9d31081f1c74175e58fa588dd5bafca0b86"
  },
  "language_info": {
   "codemirror_mode": {
    "name": "ipython",
    "version": 3
   },
   "file_extension": ".py",
   "mimetype": "text/x-python",
   "name": "python",
   "nbconvert_exporter": "python",
   "pygments_lexer": "ipython3",
   "version": "3.9.5"
  },
  "metadata": {
   "interpreter": {
    "hash": "4e7892b4f467507d725e34517222c9d31081f1c74175e58fa588dd5bafca0b86"
   }
  }
 },
 "nbformat": 4,
 "nbformat_minor": 2
}